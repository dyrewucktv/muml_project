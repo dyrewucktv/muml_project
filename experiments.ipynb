{
 "cells": [
  {
   "cell_type": "code",
   "execution_count": 1,
   "metadata": {},
   "outputs": [],
   "source": [
    "import numpy as np\n",
    "import pandas as pd\n",
    "import seaborn as sns\n",
    "import matplotlib.pyplot as plt\n",
    "from scipy.io import arff\n",
    "from sklearn.linear_model import LinearRegression\n",
    "from sklearn.metrics import mean_squared_error\n",
    "\n",
    "\n",
    "from cmi import *\n"
   ]
  },
  {
   "cell_type": "code",
   "execution_count": 4,
   "metadata": {},
   "outputs": [],
   "source": [
    "def generate_mc(cor, n):\n",
    "    \"\"\"\n",
    "    z -> x -> y\n",
    "    here cmi should be known    \n",
    "    \"\"\"\n",
    "    z = np.random.normal(0, 1, (n, 1))\n",
    "    x = z * cor + np.random.normal(0, np.sqrt(1-cor**2), (n, 1))\n",
    "    y = x * cor + np.random.normal(0, np.sqrt(1-cor**2), (n, 1))\n",
    "    return x, y, z"
   ]
  },
  {
   "cell_type": "code",
   "execution_count": 9,
   "metadata": {},
   "outputs": [
    {
     "name": "stdout",
     "output_type": "stream",
     "text": [
      "it: 0\n",
      "generating mc data\n",
      "diff\n",
      "sampling knn\n",
      "knn+MINE\n",
      "knn+classif\n",
      "model acc: 0.5190303030303031\n",
      "sampling cvae\n",
      "cvae+mine\n",
      "cvae+classif\n",
      "model acc: 0.9988787878787879\n",
      "npeet cmi\n",
      "it: 1\n",
      "generating mc data\n",
      "diff\n",
      "sampling knn\n",
      "knn+MINE\n",
      "knn+classif\n",
      "model acc: 0.5174848484848484\n",
      "sampling cvae\n",
      "cvae+mine\n",
      "cvae+classif\n",
      "model acc: 0.995969696969697\n",
      "npeet cmi\n",
      "it: 2\n",
      "generating mc data\n",
      "diff\n",
      "sampling knn\n",
      "knn+MINE\n",
      "knn+classif\n",
      "model acc: 0.5214848484848484\n",
      "sampling cvae\n",
      "cvae+mine\n",
      "cvae+classif\n",
      "model acc: 0.997560606060606\n",
      "npeet cmi\n",
      "it: 0\n",
      "generating mc data\n",
      "diff\n",
      "sampling knn\n",
      "knn+MINE\n",
      "knn+classif\n",
      "model acc: 0.522969696969697\n",
      "sampling cvae\n",
      "cvae+mine\n",
      "cvae+classif\n",
      "model acc: 0.9957727272727273\n",
      "npeet cmi\n",
      "it: 1\n",
      "generating mc data\n",
      "diff\n",
      "sampling knn\n",
      "knn+MINE\n",
      "knn+classif\n",
      "model acc: 0.5298787878787878\n",
      "sampling cvae\n",
      "cvae+mine\n",
      "cvae+classif\n",
      "model acc: 0.9965454545454545\n",
      "npeet cmi\n",
      "it: 2\n",
      "generating mc data\n",
      "diff\n",
      "sampling knn\n",
      "knn+MINE\n",
      "knn+classif\n",
      "model acc: 0.5317878787878788\n",
      "sampling cvae\n",
      "cvae+mine\n",
      "cvae+classif\n",
      "model acc: 0.9981818181818182\n",
      "npeet cmi\n",
      "it: 0\n",
      "generating mc data\n",
      "diff\n",
      "sampling knn\n",
      "knn+MINE\n",
      "knn+classif\n",
      "model acc: 0.5412727272727272\n",
      "sampling cvae\n",
      "cvae+mine\n",
      "cvae+classif\n",
      "model acc: 0.9971212121212121\n",
      "npeet cmi\n",
      "it: 1\n",
      "generating mc data\n",
      "diff\n",
      "sampling knn\n",
      "knn+MINE\n",
      "knn+classif\n",
      "model acc: 0.5472121212121213\n",
      "sampling cvae\n",
      "cvae+mine\n",
      "cvae+classif\n",
      "model acc: 0.9975757575757576\n",
      "npeet cmi\n",
      "it: 2\n",
      "generating mc data\n",
      "diff\n",
      "sampling knn\n",
      "knn+MINE\n",
      "knn+classif\n",
      "model acc: 0.5455454545454546\n",
      "sampling cvae\n",
      "cvae+mine\n",
      "cvae+classif\n",
      "model acc: 0.997969696969697\n",
      "npeet cmi\n",
      "it: 0\n",
      "generating mc data\n",
      "diff\n",
      "sampling knn\n",
      "knn+MINE\n",
      "knn+classif\n",
      "model acc: 0.5558787878787879\n",
      "sampling cvae\n",
      "cvae+mine\n",
      "cvae+classif\n",
      "model acc: 0.9962727272727273\n",
      "npeet cmi\n",
      "it: 1\n",
      "generating mc data\n",
      "diff\n",
      "sampling knn\n",
      "knn+MINE\n",
      "knn+classif\n",
      "model acc: 0.556939393939394\n",
      "sampling cvae\n",
      "cvae+mine\n",
      "cvae+classif\n",
      "model acc: 0.9978181818181818\n",
      "npeet cmi\n",
      "it: 2\n",
      "generating mc data\n",
      "diff\n",
      "sampling knn\n",
      "knn+MINE\n",
      "knn+classif\n",
      "model acc: 0.5555151515151515\n",
      "sampling cvae\n",
      "cvae+mine\n",
      "cvae+classif\n",
      "model acc: 0.9965757575757576\n",
      "npeet cmi\n",
      "it: 0\n",
      "generating mc data\n",
      "diff\n",
      "sampling knn\n",
      "knn+MINE\n",
      "knn+classif\n",
      "model acc: 0.5676060606060606\n",
      "sampling cvae\n",
      "cvae+mine\n",
      "cvae+classif\n",
      "model acc: 0.9983787878787879\n",
      "npeet cmi\n",
      "it: 1\n",
      "generating mc data\n",
      "diff\n",
      "sampling knn\n",
      "knn+MINE\n",
      "knn+classif\n",
      "model acc: 0.5721818181818182\n",
      "sampling cvae\n",
      "cvae+mine\n",
      "cvae+classif\n",
      "model acc: 0.9973333333333333\n",
      "npeet cmi\n",
      "it: 2\n",
      "generating mc data\n",
      "diff\n",
      "sampling knn\n",
      "knn+MINE\n",
      "knn+classif\n",
      "model acc: 0.5713333333333334\n",
      "sampling cvae\n",
      "cvae+mine\n",
      "cvae+classif\n",
      "model acc: 0.9973030303030304\n",
      "npeet cmi\n",
      "it: 0\n",
      "generating mc data\n",
      "diff\n",
      "sampling knn\n",
      "knn+MINE\n",
      "knn+classif\n",
      "model acc: 0.5849090909090909\n",
      "sampling cvae\n",
      "cvae+mine\n",
      "cvae+classif\n",
      "model acc: 0.9980151515151515\n",
      "npeet cmi\n",
      "it: 1\n",
      "generating mc data\n",
      "diff\n",
      "sampling knn\n",
      "knn+MINE\n",
      "knn+classif\n",
      "model acc: 0.5899090909090909\n",
      "sampling cvae\n",
      "cvae+mine\n",
      "cvae+classif\n",
      "model acc: 0.9991060606060606\n",
      "npeet cmi\n",
      "it: 2\n",
      "generating mc data\n",
      "diff\n",
      "sampling knn\n",
      "knn+MINE\n",
      "knn+classif\n",
      "model acc: 0.5912424242424242\n",
      "sampling cvae\n",
      "cvae+mine\n",
      "cvae+classif\n",
      "model acc: 0.9982121212121212\n",
      "npeet cmi\n",
      "it: 0\n",
      "generating mc data\n",
      "diff\n",
      "sampling knn\n",
      "knn+MINE\n",
      "knn+classif\n",
      "model acc: 0.6064545454545455\n",
      "sampling cvae\n",
      "cvae+mine\n",
      "cvae+classif\n",
      "model acc: 0.9982575757575758\n",
      "npeet cmi\n"
     ]
    },
    {
     "name": "stderr",
     "output_type": "stream",
     "text": [
      "/tmp/ipykernel_72298/1220199948.py:180: RuntimeWarning: divide by zero encountered in divide\n",
      "  l_w_f = (probs[f_index]/(1-probs[f_index]))[:, 1]\n"
     ]
    },
    {
     "name": "stdout",
     "output_type": "stream",
     "text": [
      "it: 1\n",
      "generating mc data\n",
      "diff\n",
      "sampling knn\n",
      "knn+MINE\n",
      "knn+classif\n",
      "model acc: 0.6037272727272728\n",
      "sampling cvae\n",
      "cvae+mine\n",
      "cvae+classif\n",
      "model acc: 0.9989090909090909\n",
      "npeet cmi\n",
      "it: 2\n",
      "generating mc data\n",
      "diff\n",
      "sampling knn\n",
      "knn+MINE\n",
      "knn+classif\n",
      "model acc: 0.6013030303030303\n",
      "sampling cvae\n",
      "cvae+mine\n",
      "cvae+classif\n",
      "model acc: 0.9994090909090909\n",
      "npeet cmi\n"
     ]
    },
    {
     "name": "stderr",
     "output_type": "stream",
     "text": [
      "/tmp/ipykernel_72298/1220199948.py:180: RuntimeWarning: divide by zero encountered in divide\n",
      "  l_w_f = (probs[f_index]/(1-probs[f_index]))[:, 1]\n"
     ]
    },
    {
     "name": "stdout",
     "output_type": "stream",
     "text": [
      "it: 0\n",
      "generating mc data\n",
      "diff\n",
      "sampling knn\n",
      "knn+MINE\n",
      "knn+classif\n",
      "model acc: 0.6173636363636363\n",
      "sampling cvae\n",
      "cvae+mine\n",
      "cvae+classif\n",
      "model acc: 0.9977727272727273\n",
      "npeet cmi\n",
      "it: 1\n",
      "generating mc data\n",
      "diff\n",
      "sampling knn\n",
      "knn+MINE\n",
      "knn+classif\n",
      "model acc: 0.617030303030303\n",
      "sampling cvae\n",
      "cvae+mine\n",
      "cvae+classif\n",
      "model acc: 0.9990454545454546\n",
      "npeet cmi\n"
     ]
    },
    {
     "name": "stderr",
     "output_type": "stream",
     "text": [
      "/tmp/ipykernel_72298/1220199948.py:180: RuntimeWarning: divide by zero encountered in divide\n",
      "  l_w_f = (probs[f_index]/(1-probs[f_index]))[:, 1]\n"
     ]
    },
    {
     "name": "stdout",
     "output_type": "stream",
     "text": [
      "it: 2\n",
      "generating mc data\n",
      "diff\n",
      "sampling knn\n",
      "knn+MINE\n",
      "knn+classif\n",
      "model acc: 0.6183939393939394\n",
      "sampling cvae\n",
      "cvae+mine\n",
      "cvae+classif\n",
      "model acc: 0.9991060606060606\n",
      "npeet cmi\n",
      "it: 0\n",
      "generating mc data\n",
      "diff\n",
      "sampling knn\n",
      "knn+MINE\n",
      "knn+classif\n",
      "model acc: 0.6257878787878788\n",
      "sampling cvae\n",
      "cvae+mine\n",
      "cvae+classif\n",
      "model acc: 0.999439393939394\n",
      "npeet cmi\n"
     ]
    },
    {
     "name": "stderr",
     "output_type": "stream",
     "text": [
      "/tmp/ipykernel_72298/1220199948.py:180: RuntimeWarning: divide by zero encountered in divide\n",
      "  l_w_f = (probs[f_index]/(1-probs[f_index]))[:, 1]\n"
     ]
    },
    {
     "name": "stdout",
     "output_type": "stream",
     "text": [
      "it: 1\n",
      "generating mc data\n",
      "diff\n",
      "sampling knn\n",
      "knn+MINE\n",
      "knn+classif\n",
      "model acc: 0.6294848484848485\n",
      "sampling cvae\n",
      "cvae+mine\n",
      "cvae+classif\n",
      "model acc: 0.9994848484848485\n",
      "npeet cmi\n"
     ]
    },
    {
     "name": "stderr",
     "output_type": "stream",
     "text": [
      "/tmp/ipykernel_72298/1220199948.py:180: RuntimeWarning: divide by zero encountered in divide\n",
      "  l_w_f = (probs[f_index]/(1-probs[f_index]))[:, 1]\n"
     ]
    },
    {
     "name": "stdout",
     "output_type": "stream",
     "text": [
      "it: 2\n",
      "generating mc data\n",
      "diff\n",
      "sampling knn\n",
      "knn+MINE\n",
      "knn+classif\n",
      "model acc: 0.6319393939393939\n",
      "sampling cvae\n",
      "cvae+mine\n",
      "cvae+classif\n",
      "model acc: 0.9992727272727273\n",
      "npeet cmi\n",
      "it: 0\n",
      "generating mc data\n",
      "diff\n",
      "sampling knn\n",
      "knn+MINE\n",
      "knn+classif\n",
      "model acc: 0.47354545454545455\n",
      "sampling cvae\n",
      "cvae+mine\n",
      "cvae+classif\n",
      "model acc: 0.9988484848484849\n",
      "npeet cmi\n",
      "it: 1\n",
      "generating mc data\n",
      "diff\n",
      "sampling knn\n",
      "knn+MINE\n",
      "knn+classif\n",
      "model acc: 0.4723636363636364\n",
      "sampling cvae\n",
      "cvae+mine\n",
      "cvae+classif\n",
      "model acc: 0.9990757575757576\n",
      "npeet cmi\n",
      "it: 2\n",
      "generating mc data\n",
      "diff\n",
      "sampling knn\n",
      "knn+MINE\n",
      "knn+classif\n",
      "model acc: 0.47633333333333333\n",
      "sampling cvae\n",
      "cvae+mine\n",
      "cvae+classif\n",
      "model acc: 0.9994090909090909\n",
      "npeet cmi\n"
     ]
    }
   ],
   "source": [
    "from npeet.entropy_estimators import cmi\n",
    "\n",
    "\n",
    "\n",
    "\n",
    "def digi(x):\n",
    "    return 1 * (x >= 0) + -1 * (x < 0)\n",
    "\n",
    "res = []\n",
    "for cor in np.linspace(.1, 1, 10):\n",
    "    for i in range(3):\n",
    "        print(f\"it: {i}\")\n",
    "        print(f\"generating mc data\")\n",
    "        x, y, z = generate_mc(cor, 100000)\n",
    "        print(\"diff\")\n",
    "        res.append({\n",
    "            \"type\": \"diff\",\n",
    "            \"val\": conditional_mutual_information(digi(x), digi(y), digi(z)),\n",
    "            \"it\": i,\n",
    "            \"cor\": cor\n",
    "        })\n",
    "        print(\"sampling knn\")\n",
    "        v2, vp = sample_q_knn(x, y, z)\n",
    "        print(\"knn+MINE\")\n",
    "        res.append({\n",
    "            \"type\": \"kNN+fMINE\",\n",
    "            \"val\": divergence_based_cmi(v2, vp, 512).item(),\n",
    "            \"it\": i,\n",
    "            \"cor\": cor\n",
    "        })\n",
    "        print(\"knn+classif\")\n",
    "        res.append({\n",
    "            \"type\": \"kNN+classif\",\n",
    "            \"val\": classif_based_cmi(v2, vp),\n",
    "            \"it\": i,\n",
    "            \"cor\": cor\n",
    "        })\n",
    "        print(\"sampling cvae\")\n",
    "        v2, vp = sample_cvae(x, y, z)\n",
    "        print(\"cvae+mine\")\n",
    "        res.append({\n",
    "            \"type\": \"cVAE+fMINE\",\n",
    "            \"val\": divergence_based_cmi(v2, vp, 512).item(),\n",
    "            \"it\": i,\n",
    "            \"cor\": cor\n",
    "        })\n",
    "        print(\"cvae+classif\")\n",
    "        res.append({\n",
    "            \"type\": \"cVAE+classif\",\n",
    "            \"val\": classif_based_cmi(v2, vp),\n",
    "            \"it\": i,\n",
    "            \"cor\": cor\n",
    "        })\n",
    "        print(\"npeet cmi\")\n",
    "        res.append({\n",
    "            \"type\": \"npeet\",\n",
    "            \"val\": cmi(x, y, z),\n",
    "            \"it\": i,\n",
    "            \"cor\": cor\n",
    "        })"
   ]
  },
  {
   "cell_type": "code",
   "execution_count": 10,
   "metadata": {},
   "outputs": [
    {
     "data": {
      "text/plain": [
       "type          cor\n",
       "cVAE+classif  0.1     14.747343\n",
       "              0.2     16.311024\n",
       "              0.3     15.929171\n",
       "              0.4     16.025632\n",
       "              0.5     15.568925\n",
       "              0.6     15.896895\n",
       "              0.7           inf\n",
       "              0.8           inf\n",
       "              0.9           inf\n",
       "              1.0     16.888170\n",
       "cVAE+fMINE    0.1    279.086614\n",
       "              0.2    241.135946\n",
       "              0.3    338.440664\n",
       "              0.4    282.203868\n",
       "              0.5    321.854513\n",
       "              0.6    220.016927\n",
       "              0.7    259.736313\n",
       "              0.8    183.316978\n",
       "              0.9    278.770437\n",
       "              1.0    266.228536\n",
       "diff          0.1      0.002077\n",
       "              0.2      0.008340\n",
       "              0.3      0.017277\n",
       "              0.4      0.030364\n",
       "              0.5      0.045235\n",
       "              0.6      0.063303\n",
       "              0.7      0.079134\n",
       "              0.8      0.095162\n",
       "              0.9      0.103277\n",
       "              1.0      0.000000\n",
       "kNN+classif   0.1     -0.027648\n",
       "              0.2     -0.012735\n",
       "              0.3      0.006433\n",
       "              0.4      0.035582\n",
       "              0.5      0.055412\n",
       "              0.6      0.115308\n",
       "              0.7      0.139268\n",
       "              0.8      0.191551\n",
       "              0.9      0.234118\n",
       "              1.0     -0.011241\n",
       "kNN+fMINE     0.1      0.004344\n",
       "              0.2      0.020559\n",
       "              0.3      0.043747\n",
       "              0.4      0.070997\n",
       "              0.5      0.109770\n",
       "              0.6      0.149001\n",
       "              0.7      0.202192\n",
       "              0.8      0.244339\n",
       "              0.9      0.295528\n",
       "              1.0     -0.000016\n",
       "npeet         0.1      0.007553\n",
       "              0.2      0.031019\n",
       "              0.3      0.061317\n",
       "              0.4      0.106678\n",
       "              0.5      0.159178\n",
       "              0.6      0.222913\n",
       "              0.7      0.288686\n",
       "              0.8      0.361826\n",
       "              0.9      0.429999\n",
       "              1.0      0.000002\n",
       "Name: val, dtype: float64"
      ]
     },
     "execution_count": 10,
     "metadata": {},
     "output_type": "execute_result"
    }
   ],
   "source": [
    "df = pd.DataFrame(res)\n",
    "df.groupby([\"type\", \"cor\"])[\"val\"].mean()"
   ]
  },
  {
   "cell_type": "code",
   "execution_count": 9,
   "metadata": {},
   "outputs": [
    {
     "name": "stdout",
     "output_type": "stream",
     "text": [
      "c: 0.1, cmi: 0.004975165426584046\n",
      "c: 0.2, cmi: 0.019610356576640665\n",
      "c: 0.30000000000000004, cmi: 0.043088848120526206\n",
      "c: 0.4, cmi: 0.0742100025591367\n",
      "c: 0.5, cmi: 0.11157177565710488\n",
      "c: 0.6, cmi: 0.15374234987398028\n",
      "c: 0.7000000000000001, cmi: 0.19938805997868395\n",
      "c: 0.8, cmi: 0.24734812091805355\n",
      "c: 0.9, cmi: 0.2966634226388672\n"
     ]
    }
   ],
   "source": [
    "for i in np.linspace(.1, .9, 9):\n",
    "    print(f\"c: {i}, cmi: {1/2*np.log(1+i**2)}\")"
   ]
  },
  {
   "cell_type": "code",
   "execution_count": 11,
   "metadata": {},
   "outputs": [
    {
     "data": {
      "text/plain": [
       "type         cor\n",
       "diff         0.1    0.002077\n",
       "             0.2    0.008340\n",
       "             0.3    0.017277\n",
       "             0.4    0.030364\n",
       "             0.5    0.045235\n",
       "             0.6    0.063303\n",
       "             0.7    0.079134\n",
       "             0.8    0.095162\n",
       "             0.9    0.103277\n",
       "             1.0    0.000000\n",
       "kNN+classif  0.1   -0.027648\n",
       "             0.2   -0.012735\n",
       "             0.3    0.006433\n",
       "             0.4    0.035582\n",
       "             0.5    0.055412\n",
       "             0.6    0.115308\n",
       "             0.7    0.139268\n",
       "             0.8    0.191551\n",
       "             0.9    0.234118\n",
       "             1.0   -0.011241\n",
       "kNN+fMINE    0.1    0.004344\n",
       "             0.2    0.020559\n",
       "             0.3    0.043747\n",
       "             0.4    0.070997\n",
       "             0.5    0.109770\n",
       "             0.6    0.149001\n",
       "             0.7    0.202192\n",
       "             0.8    0.244339\n",
       "             0.9    0.295528\n",
       "             1.0   -0.000016\n",
       "npeet        0.1    0.007553\n",
       "             0.2    0.031019\n",
       "             0.3    0.061317\n",
       "             0.4    0.106678\n",
       "             0.5    0.159178\n",
       "             0.6    0.222913\n",
       "             0.7    0.288686\n",
       "             0.8    0.361826\n",
       "             0.9    0.429999\n",
       "             1.0    0.000002\n",
       "Name: val, dtype: float64"
      ]
     },
     "execution_count": 11,
     "metadata": {},
     "output_type": "execute_result"
    }
   ],
   "source": [
    "df[~df[\"type\"].str.startswith(\"cVAE\")].groupby([\"type\", \"cor\"])[\"val\"].mean()"
   ]
  },
  {
   "cell_type": "code",
   "execution_count": 5,
   "metadata": {},
   "outputs": [],
   "source": [
    "def generate_simulated(k, l, n):\n",
    "    importants = np.random.normal(0, 1, (n, k))\n",
    "    non_important = np.random.normal(0, 1, (n, l))\n",
    "    y = (importants @ np.linspace(.1, 1, k)) / np.sum(np.linspace(.1, 1, k))\n",
    "    y = y + np.random.normal(0, .2, n)\n",
    "    return y, np.column_stack([importants, non_important])\n",
    "\n",
    "y, x = generate_simulated(5, 5, 100)"
   ]
  },
  {
   "cell_type": "code",
   "execution_count": 9,
   "metadata": {},
   "outputs": [
    {
     "name": "stdout",
     "output_type": "stream",
     "text": [
      "it: 0\n",
      "generating sim data\n",
      "sampling knn\n",
      "knn+MINE\n",
      "knn+classif\n",
      "model acc: 0.4974848484848485\n",
      "knn+MINE\n",
      "knn+classif\n",
      "model acc: 0.5016969696969698\n",
      "knn+MINE\n",
      "knn+classif\n",
      "model acc: 0.5054242424242424\n",
      "knn+MINE\n",
      "knn+classif\n",
      "model acc: 0.5054848484848485\n",
      "knn+MINE\n",
      "knn+classif\n",
      "model acc: 0.5172121212121212\n",
      "knn+MINE\n",
      "knn+classif\n",
      "model acc: 0.5222424242424243\n",
      "knn+MINE\n",
      "knn+classif\n",
      "model acc: 0.5365757575757576\n",
      "knn+MINE\n",
      "knn+classif\n",
      "model acc: 0.5407272727272727\n",
      "knn+MINE\n",
      "knn+classif\n",
      "model acc: 0.5571212121212121\n",
      "knn+MINE\n",
      "knn+classif\n",
      "model acc: 0.5712424242424242\n",
      "knn+MINE\n",
      "knn+classif\n",
      "model acc: 0.4974545454545454\n",
      "knn+MINE\n",
      "knn+classif\n",
      "model acc: 0.5031515151515151\n",
      "knn+MINE\n",
      "knn+classif\n",
      "model acc: 0.5003333333333333\n",
      "knn+MINE\n",
      "knn+classif\n",
      "model acc: 0.49187878787878786\n",
      "knn+MINE\n",
      "knn+classif\n",
      "model acc: 0.5000909090909091\n",
      "knn+MINE\n",
      "knn+classif\n",
      "model acc: 0.5046363636363637\n",
      "knn+MINE\n",
      "knn+classif\n",
      "model acc: 0.5010606060606061\n",
      "knn+MINE\n",
      "knn+classif\n",
      "model acc: 0.4936969696969697\n",
      "knn+MINE\n",
      "knn+classif\n",
      "model acc: 0.49906060606060604\n",
      "knn+MINE\n",
      "knn+classif\n",
      "model acc: 0.49324242424242426\n"
     ]
    }
   ],
   "source": [
    "res = []\n",
    "for i in range(1):\n",
    "    print(f\"it: {i}\")\n",
    "    print(f\"generating sim data\")\n",
    "    target, features = generate_simulated(10, 10, 100000)\n",
    "    print(\"sampling knn\")\n",
    "    for j in range(20):\n",
    "        y = target\n",
    "        x = features[:, j]\n",
    "        z = np.delete(features, j, axis=1)\n",
    "        v2, vp = sample_q_knn(x, y, z)\n",
    "        print(\"knn+MINE\")\n",
    "        res.append({\n",
    "            \"type\": \"kNN+fMINE\",\n",
    "            \"val\": divergence_based_cmi(v2, vp, 512, z.shape[1]).item(),\n",
    "            \"it\": i,\n",
    "            \"col\": j\n",
    "        })\n",
    "        print(\"knn+classif\")\n",
    "        res.append({\n",
    "            \"type\": \"kNN+classif\",\n",
    "            \"val\": classif_based_cmi(v2, vp),\n",
    "            \"it\": i,\n",
    "            \"col\": j\n",
    "        })\n",
    "        \"\"\" this is impossible to compute lol\n",
    "        print(\"npeet cmi\")\n",
    "        res.append({\n",
    "            \"type\": \"npeet\",\n",
    "            \"val\": cmi(x, y, z),\n",
    "            \"it\": i,\n",
    "            \"col\": j\n",
    "        })\n",
    "        \"\"\""
   ]
  },
  {
   "cell_type": "code",
   "execution_count": 10,
   "metadata": {},
   "outputs": [
    {
     "data": {
      "text/plain": [
       "type         col\n",
       "kNN+classif  0     -0.139613\n",
       "             1     -0.134148\n",
       "             2     -0.129126\n",
       "             3     -0.118278\n",
       "             4     -0.103045\n",
       "             5     -0.101218\n",
       "             6     -0.071251\n",
       "             7     -0.038523\n",
       "             8     -0.014737\n",
       "             9      0.009505\n",
       "             10    -0.147266\n",
       "             11    -0.136608\n",
       "             12    -0.139034\n",
       "             13    -0.166178\n",
       "             14    -0.130599\n",
       "             15    -0.142745\n",
       "             16    -0.134024\n",
       "             17    -0.138659\n",
       "             18    -0.141073\n",
       "             19    -0.140216\n",
       "kNN+fMINE    0      0.229106\n",
       "             1      0.252078\n",
       "             2     -0.000188\n",
       "             3      0.264206\n",
       "             4      0.268133\n",
       "             5      0.280892\n",
       "             6      0.307771\n",
       "             7      0.326276\n",
       "             8      0.377661\n",
       "             9      0.384451\n",
       "             10     0.235356\n",
       "             11     0.233350\n",
       "             12    -0.000113\n",
       "             13     0.000005\n",
       "             14    -0.000218\n",
       "             15     0.242823\n",
       "             16     0.246735\n",
       "             17    -0.000044\n",
       "             18     0.228982\n",
       "             19    -0.000096\n",
       "Name: val, dtype: float64"
      ]
     },
     "execution_count": 10,
     "metadata": {},
     "output_type": "execute_result"
    }
   ],
   "source": [
    "sdf = pd.DataFrame(res)\n",
    "sdf.groupby([\"type\", \"col\"])[\"val\"].mean()"
   ]
  },
  {
   "cell_type": "code",
   "execution_count": 11,
   "metadata": {},
   "outputs": [],
   "source": [
    "sdf.to_csv(\"sdf.csv\")"
   ]
  },
  {
   "cell_type": "code",
   "execution_count": 10,
   "metadata": {},
   "outputs": [
    {
     "data": {
      "text/html": [
       "<div>\n",
       "<style scoped>\n",
       "    .dataframe tbody tr th:only-of-type {\n",
       "        vertical-align: middle;\n",
       "    }\n",
       "\n",
       "    .dataframe tbody tr th {\n",
       "        vertical-align: top;\n",
       "    }\n",
       "\n",
       "    .dataframe thead th {\n",
       "        text-align: right;\n",
       "    }\n",
       "</style>\n",
       "<table border=\"1\" class=\"dataframe\">\n",
       "  <thead>\n",
       "    <tr style=\"text-align: right;\">\n",
       "      <th></th>\n",
       "      <th>Unnamed: 0</th>\n",
       "      <th>type</th>\n",
       "      <th>val</th>\n",
       "      <th>it</th>\n",
       "      <th>cor</th>\n",
       "    </tr>\n",
       "  </thead>\n",
       "  <tbody>\n",
       "    <tr>\n",
       "      <th>0</th>\n",
       "      <td>0</td>\n",
       "      <td>diff</td>\n",
       "      <td>2.056331e-03</td>\n",
       "      <td>0</td>\n",
       "      <td>0.1</td>\n",
       "    </tr>\n",
       "    <tr>\n",
       "      <th>1</th>\n",
       "      <td>1</td>\n",
       "      <td>kNN+fMINE</td>\n",
       "      <td>4.759610e-03</td>\n",
       "      <td>0</td>\n",
       "      <td>0.1</td>\n",
       "    </tr>\n",
       "    <tr>\n",
       "      <th>2</th>\n",
       "      <td>2</td>\n",
       "      <td>kNN+classif</td>\n",
       "      <td>-2.830697e-02</td>\n",
       "      <td>0</td>\n",
       "      <td>0.1</td>\n",
       "    </tr>\n",
       "    <tr>\n",
       "      <th>3</th>\n",
       "      <td>3</td>\n",
       "      <td>cVAE+fMINE</td>\n",
       "      <td>3.005233e+02</td>\n",
       "      <td>0</td>\n",
       "      <td>0.1</td>\n",
       "    </tr>\n",
       "    <tr>\n",
       "      <th>4</th>\n",
       "      <td>4</td>\n",
       "      <td>cVAE+classif</td>\n",
       "      <td>1.432439e+01</td>\n",
       "      <td>0</td>\n",
       "      <td>0.1</td>\n",
       "    </tr>\n",
       "    <tr>\n",
       "      <th>...</th>\n",
       "      <td>...</td>\n",
       "      <td>...</td>\n",
       "      <td>...</td>\n",
       "      <td>...</td>\n",
       "      <td>...</td>\n",
       "    </tr>\n",
       "    <tr>\n",
       "      <th>175</th>\n",
       "      <td>175</td>\n",
       "      <td>kNN+fMINE</td>\n",
       "      <td>-3.457069e-05</td>\n",
       "      <td>2</td>\n",
       "      <td>1.0</td>\n",
       "    </tr>\n",
       "    <tr>\n",
       "      <th>176</th>\n",
       "      <td>176</td>\n",
       "      <td>kNN+classif</td>\n",
       "      <td>-8.358222e-03</td>\n",
       "      <td>2</td>\n",
       "      <td>1.0</td>\n",
       "    </tr>\n",
       "    <tr>\n",
       "      <th>177</th>\n",
       "      <td>177</td>\n",
       "      <td>cVAE+fMINE</td>\n",
       "      <td>2.878636e+02</td>\n",
       "      <td>2</td>\n",
       "      <td>1.0</td>\n",
       "    </tr>\n",
       "    <tr>\n",
       "      <th>178</th>\n",
       "      <td>178</td>\n",
       "      <td>cVAE+classif</td>\n",
       "      <td>1.774274e+01</td>\n",
       "      <td>2</td>\n",
       "      <td>1.0</td>\n",
       "    </tr>\n",
       "    <tr>\n",
       "      <th>179</th>\n",
       "      <td>179</td>\n",
       "      <td>npeet</td>\n",
       "      <td>1.601713e-16</td>\n",
       "      <td>2</td>\n",
       "      <td>1.0</td>\n",
       "    </tr>\n",
       "  </tbody>\n",
       "</table>\n",
       "<p>180 rows × 5 columns</p>\n",
       "</div>"
      ],
      "text/plain": [
       "     Unnamed: 0          type           val  it  cor\n",
       "0             0          diff  2.056331e-03   0  0.1\n",
       "1             1     kNN+fMINE  4.759610e-03   0  0.1\n",
       "2             2   kNN+classif -2.830697e-02   0  0.1\n",
       "3             3    cVAE+fMINE  3.005233e+02   0  0.1\n",
       "4             4  cVAE+classif  1.432439e+01   0  0.1\n",
       "..          ...           ...           ...  ..  ...\n",
       "175         175     kNN+fMINE -3.457069e-05   2  1.0\n",
       "176         176   kNN+classif -8.358222e-03   2  1.0\n",
       "177         177    cVAE+fMINE  2.878636e+02   2  1.0\n",
       "178         178  cVAE+classif  1.774274e+01   2  1.0\n",
       "179         179         npeet  1.601713e-16   2  1.0\n",
       "\n",
       "[180 rows x 5 columns]"
      ]
     },
     "execution_count": 10,
     "metadata": {},
     "output_type": "execute_result"
    }
   ],
   "source": [
    "df = pd.read_csv(\"df.csv\")\n",
    "\n",
    "df"
   ]
  },
  {
   "cell_type": "code",
   "execution_count": 33,
   "metadata": {},
   "outputs": [
    {
     "data": {
      "text/plain": [
       "Text(0, 0.5, 'CMI')"
      ]
     },
     "execution_count": 33,
     "metadata": {},
     "output_type": "execute_result"
    },
    {
     "data": {
      "image/png": "[encoded data removed]",
      "text/plain": [
       "<Figure size 640x480 with 1 Axes>"
      ]
     },
     "metadata": {},
     "output_type": "display_data"
    }
   ],
   "source": [
    "mean_val_df = df.groupby([\"type\", \"cor\"])[\"val\"].mean().reset_index()\n",
    "mean_val_df = mean_val_df[~mean_val_df[\"type\"].str.startswith(\"cVAE\")]\n",
    "\n",
    "true_df = pd.DataFrame({\"cor\": np.linspace(.1, 1, 10), \"val\": [1/2*np.log(1+c**2) for c in np.linspace(.1, .9, 9)] + [0.]})\n",
    "true_df[\"type\"] = \"true\"\n",
    "mean_val_df = pd.concat([mean_val_df, true_df], axis=0)\n",
    "sns.lineplot(mean_val_df, x=\"cor\", y=\"val\", hue=\"type\")\n",
    "plt.xlabel(\"correlation\")\n",
    "plt.ylabel(\"CMI\")"
   ]
  },
  {
   "cell_type": "code",
   "execution_count": 35,
   "metadata": {},
   "outputs": [
    {
     "data": {
      "text/plain": [
       "(50, 3)"
      ]
     },
     "execution_count": 35,
     "metadata": {},
     "output_type": "execute_result"
    }
   ],
   "source": [
    "mean_val_df.shape"
   ]
  },
  {
   "cell_type": "code",
   "execution_count": 41,
   "metadata": {},
   "outputs": [],
   "source": [
    "squeezed = df.groupby([\"type\", \"cor\"])[\"val\"].mean().reset_index()\n",
    "extra = pd.DataFrame({\"cor\": np.linspace(.1, 1, 10), \"val\": [1/2*np.log(1+c**2) for c in np.linspace(.1, .9, 9)] + [0.], \"type\": \"true\"})\n",
    "mean_val_df = pd.concat([squeezed, extra], axis=0).reset_index(drop=True)"
   ]
  },
  {
   "cell_type": "code",
   "execution_count": 43,
   "metadata": {},
   "outputs": [
    {
     "data": {
      "text/plain": [
       "<Axes: xlabel='cor', ylabel='val'>"
      ]
     },
     "execution_count": 43,
     "metadata": {},
     "output_type": "execute_result"
    },
    {
     "data": {
      "image/png": "[encoded data removed]",
      "text/plain": [
       "<Figure size 640x480 with 1 Axes>"
      ]
     },
     "metadata": {},
     "output_type": "display_data"
    }
   ],
   "source": [
    "sns.lineplot(mean_val_df, x=\"cor\", y=\"val\", hue=\"type\")"
   ]
  },
  {
   "cell_type": "code",
   "execution_count": 50,
   "metadata": {},
   "outputs": [],
   "source": [
    "x, y, z = generate_mc(.5, 100000)\n",
    "v2_knn, vp_knn = sample_q_knn(x, y, z)\n",
    "v2_vae, vp_vae = sample_cvae(x, y, z)\n",
    "y_t_knn = v2_knn[:, 1]\n",
    "y_g_knn = vp_knn[:, 1]\n",
    "y_t_vae = v2_vae[:, 1]\n",
    "y_g_vae = vp_vae[:, 1]\n"
   ]
  },
  {
   "cell_type": "code",
   "execution_count": 52,
   "metadata": {},
   "outputs": [
    {
     "data": {
      "text/plain": [
       "<Axes: ylabel='Count'>"
      ]
     },
     "execution_count": 52,
     "metadata": {},
     "output_type": "execute_result"
    },
    {
     "data": {
      "image/png": "[encoded data removed]",
      "text/plain": [
       "<Figure size 640x480 with 1 Axes>"
      ]
     },
     "metadata": {},
     "output_type": "display_data"
    }
   ],
   "source": [
    "sns.histplot(y_t_knn, color=\"blue\")\n",
    "sns.histplot(y_g_knn, color=\"red\")"
   ]
  },
  {
   "cell_type": "code",
   "execution_count": 57,
   "metadata": {},
   "outputs": [
    {
     "data": {
      "text/plain": [
       "<Axes: ylabel='Count'>"
      ]
     },
     "execution_count": 57,
     "metadata": {},
     "output_type": "execute_result"
    },
    {
     "data": {
      "image/png": "[encoded data removed]",
      "text/plain": [
       "<Figure size 640x480 with 1 Axes>"
      ]
     },
     "metadata": {},
     "output_type": "display_data"
    }
   ],
   "source": [
    "sns.histplot(y_t_vae, color=\"blue\")\n"
   ]
  },
  {
   "cell_type": "code",
   "execution_count": 58,
   "metadata": {},
   "outputs": [
    {
     "data": {
      "text/plain": [
       "<Axes: ylabel='Count'>"
      ]
     },
     "execution_count": 58,
     "metadata": {},
     "output_type": "execute_result"
    },
    {
     "data": {
      "image/png": "[encoded data removed]",
      "text/plain": [
       "<Figure size 640x480 with 1 Axes>"
      ]
     },
     "metadata": {},
     "output_type": "display_data"
    }
   ],
   "source": [
    "sns.histplot(y_g_vae, color=\"red\")"
   ]
  },
  {
   "cell_type": "code",
   "execution_count": 12,
   "metadata": {},
   "outputs": [
    {
     "data": {
      "text/plain": [
       "type         col\n",
       "kNN+fMINE    9      0.384451\n",
       "             8      0.377661\n",
       "             7      0.326276\n",
       "             6      0.307771\n",
       "             5      0.280892\n",
       "             4      0.268133\n",
       "             3      0.264206\n",
       "             1      0.252078\n",
       "             16     0.246735\n",
       "             15     0.242823\n",
       "             10     0.235356\n",
       "             11     0.233350\n",
       "             0      0.229106\n",
       "             18     0.228982\n",
       "kNN+classif  9      0.009505\n",
       "kNN+fMINE    13     0.000005\n",
       "             17    -0.000044\n",
       "             19    -0.000096\n",
       "             12    -0.000113\n",
       "             2     -0.000188\n",
       "             14    -0.000218\n",
       "kNN+classif  8     -0.014737\n",
       "             7     -0.038523\n",
       "             6     -0.071251\n",
       "             5     -0.101218\n",
       "             4     -0.103045\n",
       "             3     -0.118278\n",
       "             2     -0.129126\n",
       "             14    -0.130599\n",
       "             16    -0.134024\n",
       "             1     -0.134148\n",
       "             11    -0.136608\n",
       "             17    -0.138659\n",
       "             12    -0.139034\n",
       "             0     -0.139613\n",
       "             19    -0.140216\n",
       "             18    -0.141073\n",
       "             15    -0.142745\n",
       "             10    -0.147266\n",
       "             13    -0.166178\n",
       "Name: val, dtype: float64"
      ]
     },
     "execution_count": 12,
     "metadata": {},
     "output_type": "execute_result"
    }
   ],
   "source": [
    "sdf.groupby([\"type\", \"col\"])[\"val\"].mean().sort_values(ascending=False)"
   ]
  },
  {
   "cell_type": "code",
   "execution_count": 6,
   "metadata": {},
   "outputs": [
    {
     "data": {
      "text/plain": [
       "0.0589178236637374"
      ]
     },
     "execution_count": 6,
     "metadata": {},
     "output_type": "execute_result"
    }
   ],
   "source": [
    "data = arff.loadarff(\"dataset\")\n",
    "dataset = pd.DataFrame(data[0])\n",
    "dataset\n",
    "y = dataset[\"AverageTotalPayments\"].values\n",
    "x = dataset.drop(\"AverageTotalPayments\", axis=1).values\n",
    "\n",
    "model = LinearRegression()\n",
    "model.fit(x[:, 2].reshape(-1, 1), y)\n",
    "mean_squared_error(y, model.predict(x[:, 2].reshape(-1,1)))"
   ]
  },
  {
   "cell_type": "code",
   "execution_count": 7,
   "metadata": {},
   "outputs": [
    {
     "data": {
      "text/plain": [
       "array([   42.77630393, 36133.95843447,  8494.49517394])"
      ]
     },
     "execution_count": 7,
     "metadata": {},
     "output_type": "execute_result"
    }
   ],
   "source": [
    "x.mean(axis=0)"
   ]
  },
  {
   "cell_type": "code",
   "execution_count": 8,
   "metadata": {},
   "outputs": [
    {
     "data": {
      "text/plain": [
       "8.991832040710895"
      ]
     },
     "execution_count": 8,
     "metadata": {},
     "output_type": "execute_result"
    }
   ],
   "source": [
    "y.mean()"
   ]
  },
  {
   "cell_type": "code",
   "execution_count": 16,
   "metadata": {},
   "outputs": [
    {
     "data": {
      "text/plain": [
       "type         col\n",
       "kNN+classif  0     -0.247715\n",
       "             1     -0.248720\n",
       "             2     -0.234156\n",
       "kNN+fMINE    0     -0.000019\n",
       "             1      0.000179\n",
       "             2      0.000035\n",
       "Name: val, dtype: float64"
      ]
     },
     "execution_count": 16,
     "metadata": {},
     "output_type": "execute_result"
    }
   ],
   "source": [
    "rdf = pd.DataFrame(res)\n",
    "rdf.groupby([\"type\", \"col\"])[\"val\"].mean()"
   ]
  }
 ],
 "metadata": {
  "kernelspec": {
   "display_name": "Python 3 (ipykernel)",
   "language": "python",
   "name": "python3"
  },
  "language_info": {
   "codemirror_mode": {
    "name": "ipython",
    "version": 3
   },
   "file_extension": ".py",
   "mimetype": "text/x-python",
   "name": "python",
   "nbconvert_exporter": "python",
   "pygments_lexer": "ipython3",
   "version": "3.12.2"
  }
 },
 "nbformat": 4,
 "nbformat_minor": 4
}
